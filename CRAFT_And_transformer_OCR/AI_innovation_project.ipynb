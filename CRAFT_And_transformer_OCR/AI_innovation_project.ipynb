{
 "cells": [
  {
   "cell_type": "code",
   "execution_count": 11,
   "metadata": {},
   "outputs": [],
   "source": [
    "import json\n",
    "import cv2"
   ]
  },
  {
   "cell_type": "code",
   "execution_count": 18,
   "metadata": {},
   "outputs": [
    {
     "name": "stdout",
     "output_type": "stream",
     "text": [
      "keys        :: dict_keys(['info', 'images', 'annotations', 'licenses'])\n",
      "info        :: 2 dict_keys(['name', 'date_created'])\n",
      "images      :: 100271 {'id': '00087562', 'width': 1920, 'height': 1767, 'file_name': '00A4AB754EC160537692825C124CF1C4.jpg', 'type': 'sign'}\n",
      "annotations :: 2097591 {'id': '00087562', 'image_id': '00003537', 'text': None, 'attributes': {'class': 'ignored'}, 'bbox': [1695, 256, 53, 28]}\n",
      "annotation  :: {'id': '00000001', 'image_id': '00000001', 'text': '냉', 'attributes': {'class': 'character'}, 'bbox': [713, 272, 76, 92]}\n",
      "annotation  :: {'id': '00000002', 'image_id': '00000001', 'text': '정', 'attributes': {'class': 'character'}, 'bbox': [798, 289, 74, 94]}\n",
      "annotation  :: {'id': '00000003', 'image_id': '00000001', 'text': '과', 'attributes': {'class': 'character'}, 'bbox': [877, 274, 91, 93]}\n",
      "annotation  :: {'id': '00000004', 'image_id': '00000001', 'text': '열', 'attributes': {'class': 'character'}, 'bbox': [996, 278, 74, 90]}\n",
      "annotation  :: {'id': '00000005', 'image_id': '00000001', 'text': '정', 'attributes': {'class': 'character'}, 'bbox': [1072, 293, 73, 93]}\n",
      "annotation  :: {'id': '00000006', 'image_id': '00000001', 'text': '사', 'attributes': {'class': 'character'}, 'bbox': [1151, 272, 90, 91]}\n",
      "annotation  :: {'id': '00000007', 'image_id': '00000001', 'text': '이', 'attributes': {'class': 'character'}, 'bbox': [1246, 300, 67, 92]}\n",
      "annotation  :: {'id': '00000008', 'image_id': '00000001', 'text': 'B', 'attributes': {'class': 'character'}, 'bbox': [1163, 459, 99, 149]}\n",
      "annotation  :: {'id': '00000009', 'image_id': '00000001', 'text': 'L', 'attributes': {'class': 'character'}, 'bbox': [1273, 446, 51, 112]}\n",
      "annotation  :: {'id': '00000010', 'image_id': '00000001', 'text': '소', 'attributes': {'class': 'character'}, 'bbox': [959, 1330, 24, 29]}\n"
     ]
    }
   ],
   "source": [
    "with open('./textinthewild_data_info.json', 'r', encoding='utf-8') as f:\n",
    "  data = json.load(f)\n",
    "\n",
    "print(\"keys        ::\", data.keys())\n",
    "print(\"info        ::\", len(data['info']), data['info'].keys())\n",
    "print(\"images      ::\", len(data['images']), data['images'][87561])\n",
    "print(\"annotations ::\", len(data['annotations']), data['annotations'][87561])\n",
    "for i in range(10):\n",
    "    print('annotation  ::', data['annotations'][i])\n",
    "#for i in range(len(data['images'])):\n",
    "#    if data['images'][i]['file_name']=='00A4AB754EC160537692825C124CF1C4.jpg':\n",
    "#        print(i)\n",
    "    \n",
    "# cv2.imread('./')\n",
    "# cv2.imshow('image', data['images'][])"
   ]
  },
  {
   "cell_type": "code",
   "execution_count": null,
   "metadata": {},
   "outputs": [],
   "source": []
  }
 ],
 "metadata": {
  "kernelspec": {
   "display_name": "Python 3",
   "language": "python",
   "name": "python3"
  },
  "language_info": {
   "codemirror_mode": {
    "name": "ipython",
    "version": 3
   },
   "file_extension": ".py",
   "mimetype": "text/x-python",
   "name": "python",
   "nbconvert_exporter": "python",
   "pygments_lexer": "ipython3",
   "version": "3.6.10"
  }
 },
 "nbformat": 4,
 "nbformat_minor": 4
}
